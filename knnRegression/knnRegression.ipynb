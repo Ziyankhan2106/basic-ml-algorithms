{
 "cells": [
  {
   "cell_type": "code",
   "execution_count": null,
   "id": "14c77f06",
   "metadata": {},
   "outputs": [],
   "source": [
    "#READING NECESSARY LIBRARIES\n",
    "\n",
    "import numpy as np\n",
    "import pandas as pd\n",
    "import matplotlib.pyplot as plt\n",
    "from sklearn.preprocessing import StandardScaler, OneHotEncoder\n",
    "from sklearn.impute import SimpleImputer\n",
    "from sklearn.model_selection import train_test_split\n",
    "from sklearn.neighbors import KNeighborsRegressor\n",
    "from sklearn.metrics import mean_absolute_error, mean_squared_error, r2_score\n"
   ]
  },
  {
   "cell_type": "code",
   "execution_count": 13,
   "id": "e3aa7ea5",
   "metadata": {},
   "outputs": [
    {
     "name": "stdout",
     "output_type": "stream",
     "text": [
      "<class 'pandas.core.frame.DataFrame'>\n",
      "RangeIndex: 21613 entries, 0 to 21612\n",
      "Data columns (total 21 columns):\n",
      " #   Column         Non-Null Count  Dtype  \n",
      "---  ------         --------------  -----  \n",
      " 0   id             21613 non-null  int64  \n",
      " 1   date           21613 non-null  object \n",
      " 2   price          21613 non-null  float64\n",
      " 3   bedrooms       21613 non-null  int64  \n",
      " 4   bathrooms      21613 non-null  float64\n",
      " 5   sqft_living    21613 non-null  int64  \n",
      " 6   sqft_lot       21613 non-null  int64  \n",
      " 7   floors         21613 non-null  float64\n",
      " 8   waterfront     21613 non-null  int64  \n",
      " 9   view           21613 non-null  int64  \n",
      " 10  condition      21613 non-null  int64  \n",
      " 11  grade          21613 non-null  int64  \n",
      " 12  sqft_above     21613 non-null  int64  \n",
      " 13  sqft_basement  21613 non-null  int64  \n",
      " 14  yr_built       21613 non-null  int64  \n",
      " 15  yr_renovated   21613 non-null  int64  \n",
      " 16  zipcode        21613 non-null  int64  \n",
      " 17  lat            21613 non-null  float64\n",
      " 18  long           21613 non-null  float64\n",
      " 19  sqft_living15  21613 non-null  int64  \n",
      " 20  sqft_lot15     21613 non-null  int64  \n",
      "dtypes: float64(5), int64(15), object(1)\n",
      "memory usage: 3.5+ MB\n",
      "None\n"
     ]
    }
   ],
   "source": [
    "#READING DATASET\n",
    "\n",
    "df = pd.read_csv('house.csv', encoding='utf-8')\n",
    "print(df.info())\n",
    "\n",
    "#how many rows and features \n",
    "rows, features=df.shape\n",
    "\n"
   ]
  },
  {
   "cell_type": "code",
   "execution_count": 14,
   "id": "57156ab6",
   "metadata": {},
   "outputs": [],
   "source": [
    "#PREPROCESSING\n",
    "\n",
    " #drop unnecessary columns\n",
    "df = df.drop(columns=['id', 'date', 'lat', 'long'])\n",
    "\n",
    "# replace different types of missing values with NaN\n",
    "df.replace(\n",
    "    to_replace=[\"\", \" \", \"NA\", \"null\", \"None\", \"N/A\", \"missing\"],\n",
    "    value=np.nan,\n",
    "    inplace=True\n",
    ")\n",
    "\n",
    "# drop rows where target is null\n",
    "target_col = 'price'\n",
    "df = df[df[target_col].notna()]\n",
    "\n",
    "# make separate dataframes for features and target variable\n",
    "df_features = df.drop(columns=[target_col])\n",
    "df_target = df[target_col]\n",
    "\n",
    "# splitting the columns of features dataset into numerical and categorical features\n",
    "numerical_features = df_features.select_dtypes(include=[np.number]).columns.tolist()\n",
    "categorical_features = df_features.select_dtypes(include=['object', 'category']).columns.tolist()\n"
   ]
  },
  {
   "cell_type": "code",
   "execution_count": 15,
   "id": "8cb12170",
   "metadata": {},
   "outputs": [],
   "source": [
    "# SPLITING THE DATASET\n",
    "\n",
    "X_train, X_test, y_train, y_test = train_test_split(df_features, df_target, test_size=0.2, random_state=42)\n"
   ]
  },
  {
   "cell_type": "code",
   "execution_count": 16,
   "id": "fa2c5ca1",
   "metadata": {},
   "outputs": [],
   "source": [
    "# setting up imputers\n",
    "numerical_imputer = SimpleImputer(strategy='mean')\n",
    "categorical_imputer = SimpleImputer(strategy='most_frequent')\n",
    "\n",
    "# handle missing values\n",
    "if numerical_features:\n",
    "    X_train[numerical_features] = numerical_imputer.fit_transform(X_train[numerical_features])\n",
    "    X_test[numerical_features] = numerical_imputer.transform(X_test[numerical_features])\n",
    "\n",
    "if categorical_features:\n",
    "    X_train[categorical_features] = categorical_imputer.fit_transform(X_train[categorical_features])\n",
    "    X_test[categorical_features] = categorical_imputer.transform(X_test[categorical_features])\n",
    "\n",
    "# encoding categorical features\n",
    "if categorical_features and len(categorical_features) > 0:\n",
    "    encoder = OneHotEncoder(sparse_output=False, drop=None, handle_unknown='ignore')\n",
    "    encoded_train_array = encoder.fit_transform(X_train[categorical_features])\n",
    "    encoded_test_array = encoder.transform(X_test[categorical_features])\n",
    "\n",
    "    encoded_train_df = pd.DataFrame(\n",
    "        encoded_train_array,\n",
    "        columns=encoder.get_feature_names_out(categorical_features),\n",
    "        index=X_train.index\n",
    "    )\n",
    "    encoded_test_df = pd.DataFrame(\n",
    "        encoded_test_array,\n",
    "        columns=encoder.get_feature_names_out(categorical_features),\n",
    "        index=X_test.index\n",
    "    )\n",
    "else:\n",
    "    # If no categorical features, create empty DataFrames to concat without error\n",
    "    encoded_train_df = pd.DataFrame(index=X_train.index)\n",
    "    encoded_test_df = pd.DataFrame(index=X_test.index)\n",
    "    \n",
    "# scaling numerical features\n",
    "if numerical_features:\n",
    "    scaler = StandardScaler()\n",
    "    scaled_train_array = scaler.fit_transform(X_train[numerical_features])\n",
    "    scaled_test_array = scaler.transform(X_test[numerical_features])\n",
    "\n",
    "    scaled_train_df = pd.DataFrame(scaled_train_array, columns=numerical_features, index=X_train.index)\n",
    "    scaled_test_df = pd.DataFrame(scaled_test_array, columns=numerical_features, index=X_test.index)\n",
    "\n",
    "# concatenate encoded + scaled features\n",
    "X_train = pd.concat([scaled_train_df, encoded_train_df], axis=1)\n",
    "X_test = pd.concat([scaled_test_df, encoded_test_df], axis=1)"
   ]
  },
  {
   "cell_type": "code",
   "execution_count": 17,
   "id": "73b346a5",
   "metadata": {},
   "outputs": [
    {
     "name": "stderr",
     "output_type": "stream",
     "text": [
      "c:\\Users\\patha\\AppData\\Local\\Programs\\Python\\Python313\\Lib\\site-packages\\joblib\\externals\\loky\\backend\\context.py:136: UserWarning: Could not find the number of physical cores for the following reason:\n",
      "[WinError 2] The system cannot find the file specified\n",
      "Returning the number of logical cores instead. You can silence this warning by setting LOKY_MAX_CPU_COUNT to the number of cores you want to use.\n",
      "  warnings.warn(\n",
      "  File \"c:\\Users\\patha\\AppData\\Local\\Programs\\Python\\Python313\\Lib\\site-packages\\joblib\\externals\\loky\\backend\\context.py\", line 257, in _count_physical_cores\n",
      "    cpu_info = subprocess.run(\n",
      "        \"wmic CPU Get NumberOfCores /Format:csv\".split(),\n",
      "        capture_output=True,\n",
      "        text=True,\n",
      "    )\n",
      "  File \"c:\\Users\\patha\\AppData\\Local\\Programs\\Python\\Python313\\Lib\\subprocess.py\", line 554, in run\n",
      "    with Popen(*popenargs, **kwargs) as process:\n",
      "         ~~~~~^^^^^^^^^^^^^^^^^^^^^^\n",
      "  File \"c:\\Users\\patha\\AppData\\Local\\Programs\\Python\\Python313\\Lib\\subprocess.py\", line 1039, in __init__\n",
      "    self._execute_child(args, executable, preexec_fn, close_fds,\n",
      "    ~~~~~~~~~~~~~~~~~~~^^^^^^^^^^^^^^^^^^^^^^^^^^^^^^^^^^^^^^^^^\n",
      "                        pass_fds, cwd, env,\n",
      "                        ^^^^^^^^^^^^^^^^^^^\n",
      "    ...<5 lines>...\n",
      "                        gid, gids, uid, umask,\n",
      "                        ^^^^^^^^^^^^^^^^^^^^^^\n",
      "                        start_new_session, process_group)\n",
      "                        ^^^^^^^^^^^^^^^^^^^^^^^^^^^^^^^^^\n",
      "  File \"c:\\Users\\patha\\AppData\\Local\\Programs\\Python\\Python313\\Lib\\subprocess.py\", line 1554, in _execute_child\n",
      "    hp, ht, pid, tid = _winapi.CreateProcess(executable, args,\n",
      "                       ~~~~~~~~~~~~~~~~~~~~~^^^^^^^^^^^^^^^^^^\n",
      "                             # no special security\n",
      "                             ^^^^^^^^^^^^^^^^^^^^^\n",
      "    ...<4 lines>...\n",
      "                             cwd,\n",
      "                             ^^^^\n",
      "                             startupinfo)\n",
      "                             ^^^^^^^^^^^^\n"
     ]
    },
    {
     "name": "stdout",
     "output_type": "stream",
     "text": [
      "Best k value: 10\n"
     ]
    }
   ],
   "source": [
    "#TRAINING THE MODEL\n",
    "\n",
    "\n",
    "rmse_list= []\n",
    "\n",
    "for k in range(1, 11):\n",
    "    \n",
    "    model=KNeighborsRegressor(n_neighbors=k,weights='distance',metric='manhattan')\n",
    "    model.fit(X_train,y_train)\n",
    "    y_pred=model.predict(X_test)\n",
    "    rmse = np.sqrt(mean_squared_error(y_test, y_pred))\n",
    "    rmse_list.append(rmse)\n",
    "\n",
    "best_k = np.argmin(rmse_list) +1 \n",
    "print(f\"Best k value: {best_k}\")\n"
   ]
  },
  {
   "cell_type": "code",
   "execution_count": 18,
   "id": "ba8e0505",
   "metadata": {},
   "outputs": [
    {
     "name": "stdout",
     "output_type": "stream",
     "text": [
      "MAE: 115511.7118815972\n",
      "MSE: 39289626950.06262\n",
      "RMSE: 198216.11173177275\n",
      "R^2: 0.74010794147112\n"
     ]
    }
   ],
   "source": [
    "#EVALUATING MODEL\n",
    "\n",
    "mae = mean_absolute_error(y_test, y_pred)\n",
    "mse = mean_squared_error(y_test, y_pred)\n",
    "rmse = np.sqrt(mse)\n",
    "r2 = r2_score(y_test, y_pred)\n",
    "print(f\"MAE: {mae}\")\n",
    "print(f\"MSE: {mse}\")    \n",
    "print(f\"RMSE: {rmse}\")\n",
    "print(f\"R^2: {r2}\")\n"
   ]
  },
  {
   "cell_type": "code",
   "execution_count": 19,
   "id": "17e24887",
   "metadata": {},
   "outputs": [
    {
     "data": {
      "image/png": "[encoded data removed]",
      "text/plain": [
       "<Figure size 640x480 with 1 Axes>"
      ]
     },
     "metadata": {},
     "output_type": "display_data"
    }
   ],
   "source": [
    "#DATA VISUALIZATION\n",
    "\n",
    "\n",
    "plt.scatter(y_test, y_pred, c='blue',alpha=0.5)\n",
    "\n",
    "plt.xlabel(\"Actual\")\n",
    "plt.ylabel(\"Predicted\")\n",
    "plt.title(\"Actual vs Predicted - KNN Regressor\")\n",
    "plt.plot([y_test.min(), y_test.max()], [y_test.min(), y_test.max()], 'r--')\n",
    "plt.grid(True)\n",
    "plt.show()\n"
   ]
  }
 ],
 "metadata": {
  "kernelspec": {
   "display_name": "Python 3",
   "language": "python",
   "name": "python3"
  },
  "language_info": {
   "codemirror_mode": {
    "name": "ipython",
    "version": 3
   },
   "file_extension": ".py",
   "mimetype": "text/x-python",
   "name": "python",
   "nbconvert_exporter": "python",
   "pygments_lexer": "ipython3",
   "version": "3.13.5"
  }
 },
 "nbformat": 4,
 "nbformat_minor": 5
}
